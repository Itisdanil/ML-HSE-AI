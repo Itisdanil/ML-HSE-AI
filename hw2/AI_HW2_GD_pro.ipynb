{
  "nbformat": 4,
  "nbformat_minor": 0,
  "metadata": {
    "colab": {
      "provenance": [],
      "gpuType": "V28"
    },
    "kernelspec": {
      "name": "python3",
      "display_name": "Python 3"
    },
    "language_info": {
      "name": "python"
    },
    "accelerator": "TPU"
  },
  "cells": [
    {
      "cell_type": "markdown",
      "metadata": {
        "id": "view-in-github"
      },
      "source": [
        "<a href=\"https://colab.research.google.com/github/Murcha1990/ML_AI24/blob/main/Hometasks/Pro/AI_HW2_GD_pro.ipynb\" target=\"_parent\"><img src=\"https://colab.research.google.com/assets/colab-badge.svg\" alt=\"Open In Colab\"/></a>"
      ]
    },
    {
      "cell_type": "markdown",
      "source": [
        "# **Домашнее задание 2: Градиентный спуск (pro)**\n",
        "\n",
        "В этом задании две части - теоретическая и практическая. Теорию можно набирать, используя LaTex или просто решать на листочке, сфотографировать и отправить вместе с заполненным ноутбуком в anytask.\n",
        "\n",
        "Максимальный балл за домашнее задание - 10."
      ],
      "metadata": {
        "id": "lJ1Hwqs18fSZ"
      }
    },
    {
      "cell_type": "markdown",
      "source": [
        "## Часть 2 (практическая).\n",
        "\n",
        "## Задание 2 (**1 балл**)\n",
        "\n",
        "Дана функция: $$f(x) = x\\cdot sin(5x) + 0.1 \\cdot x^2$$\n",
        "\n",
        "Для этой функции:\n",
        "\n",
        "- [ ] Реализуйте (или возьмите рассмотренный на занятии) метод градиетного спуска с условием остановки `stop=1e^-6` и шагом `eta=0.001`. **Градиетный спуск обязательно должен сохранять траекторию движения.**\n",
        "- [ ] Задайте стартовые точки x0, равные 0, 0.5, 1\n",
        "- [ ] Реализуйте нахождение точек минимума и максимума функции $f(x)$ (для нахождения максимума нам нужно в направлении градиента, а не антиградиента)\n",
        "- [ ] Проанализируйте результаты. Предположите, с чем они связаны. Ответьте на вопросы:\n",
        "    - Чему равны значения экстремумов?\n",
        "    - При старте из какой начальной точки найденные экстремумы совпадут?\n",
        "\n",
        "\n"
      ],
      "metadata": {
        "id": "_pGazqdK9Tvf"
      }
    },
    {
      "cell_type": "code",
      "source": [
        "import numpy as np\n",
        "from tqdm import tqdm\n",
        "import time\n",
        "from sklearn.metrics import r2_score\n",
        "from sklearn.datasets import make_regression\n",
        "import pandas as pd\n",
        "import numpy as np\n",
        "import matplotlib.pyplot as plt"
      ],
      "metadata": {
        "id": "6DQecPyi6zNF"
      },
      "execution_count": 46,
      "outputs": []
    },
    {
      "cell_type": "code",
      "source": [
        "# Функция и её производная\n",
        "def f(x):\n",
        "    return x * np.sin(5 * x) + 0.1 * x**2\n",
        "\n",
        "def df(x):\n",
        "    return np.sin(5 * x) + 5 * x * np.cos(5 * x) + 0.2 * x\n",
        "\n",
        "# Градиентный спуск\n",
        "def gradient_descent(f, df, x0, eta, max_iter=1000, tol=1e-6, grad_type=\"min\"):\n",
        "    x = x0\n",
        "    path = []\n",
        "    path.append(x)\n",
        "    for i in range(max_iter):\n",
        "        grad = df(x)\n",
        "        if grad_type == \"max\":\n",
        "            x = x + eta * grad\n",
        "        else:\n",
        "            x = x - eta * grad\n",
        "        path.append(x)\n",
        "        if np.abs(grad) < tol:\n",
        "            break\n",
        "    return x, path\n",
        "\n",
        "# Поиск экстремумов\n",
        "def find_points(f, df, x0, eta, max_iter=1000, tol=1e-6):\n",
        "    min_x, min_path = gradient_descent(f, df, x0, eta, max_iter, tol, grad_type=\"min\")\n",
        "    max_x, max_path = gradient_descent(f, df, x0, eta, max_iter, tol, grad_type=\"max\")\n",
        "    return min_x, max_x, min_path, max_path"
      ],
      "metadata": {
        "id": "HJbAEs3_-zet"
      },
      "execution_count": 47,
      "outputs": []
    },
    {
      "cell_type": "code",
      "source": [
        "x0_values = [0, 0.5, 1]\n",
        "eta = 0.001\n",
        "\n",
        "results = {}\n",
        "for x0 in x0_values:\n",
        "    min_x, max_x, min_path, max_path = find_points(f, df, x0, eta)\n",
        "    results[x0] = {\n",
        "        \"min_x\": min_x,\n",
        "        \"max_x\": max_x,\n",
        "        \"min_f\": f(min_x),\n",
        "        \"max_f\": f(max_x),\n",
        "    }\n",
        "\n",
        "for x0, res in results.items():\n",
        "    print(f\"Стартовая точка x0 = {x0}:\")\n",
        "    print(f\"  Минимум: x = {res['min_x']:.6f}, f(x) = {res['min_f']:.6f}\")\n",
        "    print(f\"  Максимум: x = {res['max_x']:.6f}, f(x) = {res['max_f']:.6f}\")"
      ],
      "metadata": {
        "colab": {
          "base_uri": "https://localhost:8080/"
        },
        "id": "KxvSO9Un7F45",
        "outputId": "2ef2af31-4908-40f5-949d-43afc79ce808"
      },
      "execution_count": 48,
      "outputs": [
        {
          "output_type": "stream",
          "name": "stdout",
          "text": [
            "Стартовая точка x0 = 0:\n",
            "  Минимум: x = 0.000000, f(x) = 0.000000\n",
            "  Максимум: x = 0.000000, f(x) = 0.000000\n",
            "Стартовая точка x0 = 0.5:\n",
            "  Минимум: x = 0.975099, f(x) = -0.867075\n",
            "  Максимум: x = 0.411784, f(x) = 0.380650\n",
            "Стартовая точка x0 = 1:\n",
            "  Минимум: x = 0.975099, f(x) = -0.867075\n",
            "  Максимум: x = 1.603553, f(x) = 1.839232\n"
          ]
        }
      ]
    },
    {
      "cell_type": "markdown",
      "source": [
        "при старте из точки 0 значения экстремумов совпадают"
      ],
      "metadata": {
        "id": "6NE06HrIC_43"
      }
    },
    {
      "cell_type": "markdown",
      "source": [
        "## Задание 3 (**0.5 балла**).\n",
        "Напишите функцию, вычисляющую значение весов в линейной регрессии по точной (аналитически найденной) формуле."
      ],
      "metadata": {
        "id": "lm6_Ln0GoliG"
      }
    },
    {
      "cell_type": "code",
      "source": [
        "def ols_solution(X, y):\n",
        "    X = np.column_stack((np.ones(X.shape[0]), X)) # добавляю столбец из единиц для учета свободного члена\n",
        "\n",
        "    w = np.linalg.inv(X.T @ X) @ X.T @ y\n",
        "\n",
        "    return w"
      ],
      "metadata": {
        "id": "ZrVvpU9miOga"
      },
      "execution_count": 49,
      "outputs": []
    },
    {
      "cell_type": "markdown",
      "source": [
        "## Задание 5 (**1 балл**).\n",
        "Модифицируйте метод градиентного спуска с семинара так, чтобы это теперь был метод стохастического градиентного спуска."
      ],
      "metadata": {
        "id": "_shCsTQ1pVcU"
      }
    },
    {
      "cell_type": "code",
      "source": [
        "def compute_cost(X, y, theta):\n",
        "    m = len(y)\n",
        "\n",
        "    cost = (1./m) * (np.linalg.norm(X @ theta - y) ** 2)\n",
        "    return cost"
      ],
      "metadata": {
        "id": "eY4fjJf8HCLp"
      },
      "execution_count": 50,
      "outputs": []
    },
    {
      "cell_type": "code",
      "source": [
        "def stochastic_gradient_descent(X, y, learning_rate, iterations):\n",
        "    X = np.hstack((np.ones((X.shape[0], 1)), X))\n",
        "    params = np.random.rand(X.shape[1])\n",
        "\n",
        "    m = X.shape[0]\n",
        "\n",
        "    cost_track = np.zeros((iterations, 1))\n",
        "\n",
        "    for i in tqdm(range(iterations)):\n",
        "        random_index = np.random.randint(m)\n",
        "        X_i = X[random_index, :].reshape(1, -1)\n",
        "        y_i = y[random_index]\n",
        "\n",
        "        gradient = 2./m * (X_i.T @ ((X_i @ params) - y_i))\n",
        "\n",
        "        params = params - learning_rate * gradient\n",
        "\n",
        "        cost_track[i] = compute_cost(X, y, params)\n",
        "\n",
        "    return cost_track, params"
      ],
      "metadata": {
        "id": "fTZWxz1zpb9R"
      },
      "execution_count": 51,
      "outputs": []
    },
    {
      "cell_type": "markdown",
      "source": [
        "## Задание 6 (**3 балла**).\n",
        "* **(0 баллов)**. Скопируйте метод градиентного спуска из семинара в этот ноутбук.\n",
        "\n",
        "* **(0.5 балла)**. Обучите линейную регрессию на данных, сгенерированных ниже, тремя методами (по точной формуле, с помощью GD и с помощью SGD) на данных для задачи регрессии (см. код). Для GD и SGD используйте learning_rate = 0.01, iterations=10000.\n",
        "\n",
        "* **(0.5 балла)**. С помощью каждого метода сделайте предсказание (на всех данных), вычислите качество предсказания r2 (from sklearn.metrics import r2_score). Для получения предсказания можете использовать функцию predict с семинара.\n",
        "\n",
        "\n",
        "Ответьте на следующие вопросы (каждый вопрос - **0.5 балла**):\n",
        "\n",
        "1) все ли методы справились с нахождением минимума? если нет, то почему какой-то из методов не справился?\n",
        "\n",
        "2) сравните время работы методов (используйте библиотеку time): замеряйте время работы соответствующей написанной вами функции.\n",
        "\n",
        "3) для методов GD и SGD нарисуйте графики (для каждого свой) зависимости ошибки (loss) от номера итерации.\n",
        "\n",
        "4) какой метод успешнее всего справился с задачей? (т.е. r2 наибольший)."
      ],
      "metadata": {
        "id": "WnRlUa9Npi9o"
      }
    },
    {
      "cell_type": "code",
      "source": [
        "def gradient_descent(X, y, learning_rate, iterations):\n",
        "\n",
        "    X = np.hstack((np.ones((X.shape[0], 1)), X))\n",
        "    params = np.random.rand(X.shape[1])\n",
        "\n",
        "    m = X.shape[0]\n",
        "\n",
        "    cost_track = np.zeros((iterations,1))\n",
        "\n",
        "    for i in tqdm(range(iterations)):\n",
        "        params = params - 2./m * learning_rate * (X.T @ ((X @ params) - y))\n",
        "        cost_track[i] = compute_cost(X, y, params)\n",
        "\n",
        "    return cost_track, params"
      ],
      "metadata": {
        "id": "wSZNDzS-H1Wp"
      },
      "execution_count": 52,
      "outputs": []
    },
    {
      "cell_type": "code",
      "source": [
        "def predict(X, params):\n",
        "    X = np.hstack((np.ones((X.shape[0], 1)), X))\n",
        "    return X @ params"
      ],
      "metadata": {
        "id": "JGw4H6JcK8NO"
      },
      "execution_count": 53,
      "outputs": []
    },
    {
      "cell_type": "code",
      "source": [
        "X, y, _ = make_regression(n_samples=100000,#number of samples\n",
        "                          n_features=10,#number of features\n",
        "                          n_informative=8,#number of useful features\n",
        "                          noise=100,#bias and standard deviation of the guassian noise\n",
        "                          coef=True,#true coefficient used to generated the data\n",
        "                          random_state=123)\n",
        "\n",
        "X = pd.DataFrame(data=X, columns=np.arange(0, X.shape[1]))\n",
        "X[10] = X[6] + X[7] + np.random.random()*0.01"
      ],
      "metadata": {
        "id": "LBu41KSpqbbI"
      },
      "execution_count": 54,
      "outputs": []
    },
    {
      "cell_type": "code",
      "source": [
        "learning_rate = 0.01\n",
        "iterations = 10000"
      ],
      "metadata": {
        "id": "4jToewMSS_j8"
      },
      "execution_count": 55,
      "outputs": []
    },
    {
      "cell_type": "code",
      "source": [
        "%%time\n",
        "params_ols = ols_solution(X, y)\n",
        "y_pred_ols = predict(X, params_ols)\n",
        "r2_ols = r2_score(y, y_pred_ols)\n",
        "print(f\"OLS: R^2 = {r2_ols:.4f}\")"
      ],
      "metadata": {
        "colab": {
          "base_uri": "https://localhost:8080/"
        },
        "id": "cILDob-3TD4q",
        "outputId": "c80ca18b-7fe3-46d6-c793-4e85155cfc26"
      },
      "execution_count": 56,
      "outputs": [
        {
          "output_type": "stream",
          "name": "stdout",
          "text": [
            "OLS: R^2 = 0.7535\n",
            "CPU times: user 187 ms, sys: 1.06 s, total: 1.25 s\n",
            "Wall time: 217 ms\n"
          ]
        }
      ]
    },
    {
      "cell_type": "code",
      "source": [
        "%%time\n",
        "cost_track_gd, params_gd = gradient_descent(X, y, learning_rate, iterations)\n",
        "y_pred_gd = predict(X, params_gd)\n",
        "r2_gd = r2_score(y, y_pred_gd)\n",
        "print(f\"GD: R^2 = {r2_gd:.4f}\")"
      ],
      "metadata": {
        "colab": {
          "base_uri": "https://localhost:8080/"
        },
        "id": "v30u_oVOTKH3",
        "outputId": "21bfbf31-f8a3-40d0-a41f-d3af36006522"
      },
      "execution_count": 57,
      "outputs": [
        {
          "output_type": "stream",
          "name": "stderr",
          "text": [
            "100%|██████████| 10000/10000 [05:27<00:00, 30.53it/s]\n"
          ]
        },
        {
          "output_type": "stream",
          "name": "stdout",
          "text": [
            "GD: R^2 = 0.7555\n",
            "CPU times: user 3min 29s, sys: 18min 6s, total: 21min 36s\n",
            "Wall time: 5min 27s\n"
          ]
        }
      ]
    },
    {
      "cell_type": "code",
      "source": [
        "%%time\n",
        "cost_track_sgd, params_sgd = stochastic_gradient_descent(X, y, learning_rate, iterations)\n",
        "y_pred_sgd = predict(X, params_sgd)\n",
        "r2_sgd = r2_score(y, y_pred_sgd)\n",
        "print(f\"SGD: R^2 = {r2_sgd:.4f}\")"
      ],
      "metadata": {
        "colab": {
          "base_uri": "https://localhost:8080/"
        },
        "id": "CdMBhXIBTMOU",
        "outputId": "20c7b9d2-87ad-4817-ff4e-abea9f67d456"
      },
      "execution_count": 58,
      "outputs": [
        {
          "output_type": "stream",
          "name": "stderr",
          "text": [
            "100%|██████████| 10000/10000 [02:43<00:00, 61.17it/s]\n"
          ]
        },
        {
          "output_type": "stream",
          "name": "stdout",
          "text": [
            "SGD: R^2 = 0.0215\n",
            "CPU times: user 1min 46s, sys: 8min 56s, total: 10min 42s\n",
            "Wall time: 2min 43s\n"
          ]
        }
      ]
    },
    {
      "cell_type": "code",
      "source": [
        "def plot_loss(cost_track, iterations, grad_type=\"GD\"):\n",
        "    iterations_range = np.arange(1, iterations + 1)\n",
        "\n",
        "    plt.figure(figsize=(10, 6))\n",
        "    plt.plot(iterations_range, cost_track, label=grad_type, color=\"blue\", linewidth=2)\n",
        "\n",
        "    plt.title(f\"Падение функции потерь дл {grad_type}\", fontsize=16)\n",
        "    plt.xlabel(\"Итерации\", fontsize=14)\n",
        "    plt.ylabel(\"Функция потерь (Loss)\", fontsize=14)\n",
        "    plt.legend(fontsize=14)\n",
        "    plt.grid(True, linestyle=\"--\", alpha=0.6)\n",
        "    plt.show()"
      ],
      "metadata": {
        "id": "WsaPLQIgaaX-"
      },
      "execution_count": 59,
      "outputs": []
    },
    {
      "cell_type": "code",
      "source": [
        "plot_loss(cost_track_gd, iterations)"
      ],
      "metadata": {
        "colab": {
          "base_uri": "https://localhost:8080/",
          "height": 571
        },
        "id": "dZKIxXo-axaE",
        "outputId": "0a5c671e-5ce0-4da0-e0f0-97858e6bce20"
      },
      "execution_count": 60,
      "outputs": [
        {
          "output_type": "display_data",
          "data": {
            "text/plain": [
              "<Figure size 1000x600 with 1 Axes>"
            ],
            "image/png": "[encoded data removed]"
          },
          "metadata": {}
        }
      ]
    },
    {
      "cell_type": "code",
      "source": [
        "plot_loss(cost_track_sgd, iterations, grad_type=\"GD\")"
      ],
      "metadata": {
        "colab": {
          "base_uri": "https://localhost:8080/",
          "height": 571
        },
        "id": "ZVOpmgcMa3ZS",
        "outputId": "2052fa3c-d07c-4aa1-e35a-9e448fd68369"
      },
      "execution_count": 61,
      "outputs": [
        {
          "output_type": "display_data",
          "data": {
            "text/plain": [
              "<Figure size 1000x600 with 1 Axes>"
            ],
            "image/png": "[encoded data removed]"
          },
          "metadata": {}
        }
      ]
    },
    {
      "cell_type": "markdown",
      "source": [
        "Видим, что SGD плохо справился с задачей, большой лосс и маленький R^2. Судя по графикам ему сильно не хватило итераций для того, чтобы сойтись"
      ],
      "metadata": {
        "id": "2zrdVgQrtcAn"
      }
    },
    {
      "cell_type": "markdown",
      "source": [
        "## Задание 7 (1.5 балла).\n",
        "\n",
        "* **(0.5 балла)**. Добавьте в функцию из задания 5 L2-регуляризацию и, соответственно, новый аргумент - коэффициент при регуляризаторе.\n",
        "\n",
        "* **(1 балл)**. На сгенерированных выше данных обучите модифицированный алгоритм SGD с регуляризацией: в цикле перебирайте значения коэффициента регуляризации от 0.1 до 1 с шагом 0.1. Для каждого значения обучите модель и сделайте предсказание, выведите значение r2. Для какого значения коэффициента регуляризации получилось наилучшее качество r2, почему?"
      ],
      "metadata": {
        "id": "wYmzzJVV54zT"
      }
    },
    {
      "cell_type": "code",
      "source": [
        "def stochastic_gradient_descent_reg(X, y, learning_rate, iterations, lambda_reg=0.0):\n",
        "    X = np.hstack((np.ones((X.shape[0], 1)), X))\n",
        "\n",
        "    params = np.random.rand(X.shape[1])\n",
        "\n",
        "    m = X.shape[0]\n",
        "\n",
        "    cost_track = np.zeros((iterations, 1))\n",
        "\n",
        "    for i in range(iterations):\n",
        "        random_index = np.random.randint(m)\n",
        "        X_i = X[random_index, :].reshape(1, -1)\n",
        "        y_i = y[random_index]\n",
        "\n",
        "        gradient = (2 / m) * (X_i.T @ ((X_i @ params) - y_i)) + (2 * lambda_reg * params)\n",
        "\n",
        "        params = params - learning_rate * gradient\n",
        "\n",
        "        cost_track[i] = compute_cost(X, y, params)\n",
        "\n",
        "    return cost_track, params"
      ],
      "metadata": {
        "id": "b_hC1Ehi612d"
      },
      "execution_count": 62,
      "outputs": []
    },
    {
      "cell_type": "code",
      "source": [
        "lambda_values = np.arange(0.1, 1.1, 0.1)\n",
        "\n",
        "for lambda_reg in lambda_values:\n",
        "    cost_track_sgd, params_sgd = stochastic_gradient_descent_reg(X, y, learning_rate, iterations, lambda_reg)\n",
        "\n",
        "    y_pred_sgd = predict(X, params_sgd)\n",
        "\n",
        "    r2 = r2_score(y, y_pred_sgd)\n",
        "    print(f\"Lambda = {lambda_reg:.1f}, R^2 = {r2:.4f}\")"
      ],
      "metadata": {
        "colab": {
          "base_uri": "https://localhost:8080/"
        },
        "id": "k1NRqeZiriLe",
        "outputId": "fd392c96-ca9c-4b4b-81d0-7ae68de195eb"
      },
      "execution_count": 63,
      "outputs": [
        {
          "output_type": "stream",
          "name": "stdout",
          "text": [
            "Lambda = 0.1, R^2 = 0.0003\n",
            "Lambda = 0.2, R^2 = 0.0001\n",
            "Lambda = 0.3, R^2 = 0.0001\n",
            "Lambda = 0.4, R^2 = 0.0001\n",
            "Lambda = 0.5, R^2 = 0.0000\n",
            "Lambda = 0.6, R^2 = 0.0000\n",
            "Lambda = 0.7, R^2 = 0.0000\n",
            "Lambda = 0.8, R^2 = 0.0000\n",
            "Lambda = 0.9, R^2 = 0.0000\n",
            "Lambda = 1.0, R^2 = 0.0000\n"
          ]
        }
      ]
    },
    {
      "cell_type": "markdown",
      "source": [
        "## Задание 8 (2 балла)\n",
        "\n",
        "Реализуйте на выбор одну из оптимизаций градиентного спуска - Momentum или  AdaGrad. Необходимые выкладки вы можете подсмотреть [здесь](https://education.yandex.ru/handbook/ml/article/optimizaciya-v-ml)."
      ],
      "metadata": {
        "id": "zMUiRyCiCB3E"
      }
    },
    {
      "cell_type": "code",
      "source": [
        "def modified_grad_descent(X, y, learning_rate, iterations, epsilon=1e-8):\n",
        "    \"\"\"\n",
        "    Adagrad\n",
        "    \"\"\"\n",
        "    X = np.hstack((np.ones((X.shape[0], 1)), X))\n",
        "\n",
        "    params = np.random.rand(X.shape[1])\n",
        "\n",
        "    grad_squared = np.zeros_like(params)\n",
        "\n",
        "    m = X.shape[0]\n",
        "\n",
        "    cost_track = np.zeros((iterations, 1))\n",
        "\n",
        "    for i in tqdm(range(iterations)):\n",
        "        gradient = (2 / m) * (X.T @ ((X @ params) - y))\n",
        "\n",
        "        grad_squared += gradient ** 2\n",
        "\n",
        "        params = params - (learning_rate / (np.sqrt(grad_squared) + epsilon)) * gradient\n",
        "\n",
        "        cost_track[i] = compute_cost(X, y, params)\n",
        "\n",
        "    return cost_track, params"
      ],
      "metadata": {
        "id": "ID9ervHwCyc7"
      },
      "execution_count": 64,
      "outputs": []
    },
    {
      "cell_type": "code",
      "source": [
        "epsilon = 1e-8\n",
        "\n",
        "cost_track_adagrad, params_adagrad = modified_grad_descent(X, y, learning_rate, iterations, epsilon)\n",
        "\n",
        "y_pred_adagrad = predict(X, params_adagrad)\n",
        "\n",
        "r2_adagrad = r2_score(y, y_pred_adagrad)\n",
        "print(f\"Adagrad: R^2 = {r2_adagrad:.4f}\")"
      ],
      "metadata": {
        "colab": {
          "base_uri": "https://localhost:8080/"
        },
        "id": "NLvHdE5-tiP6",
        "outputId": "dfb255a2-8a01-4f0c-f8a1-a0f6f9c930d3"
      },
      "execution_count": 65,
      "outputs": [
        {
          "output_type": "stream",
          "name": "stderr",
          "text": [
            "100%|██████████| 10000/10000 [05:58<00:00, 27.92it/s]\n"
          ]
        },
        {
          "output_type": "stream",
          "name": "stdout",
          "text": [
            "Adagrad: R^2 = 0.0802\n"
          ]
        }
      ]
    }
  ]
}